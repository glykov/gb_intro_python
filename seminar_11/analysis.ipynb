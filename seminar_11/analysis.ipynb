{
 "cells": [
  {
   "cell_type": "code",
   "execution_count": 2,
   "metadata": {},
   "outputs": [],
   "source": [
    "import pandas as pd\n",
    "import matplotlib.pyplot as plt"
   ]
  },
  {
   "cell_type": "code",
   "execution_count": 3,
   "metadata": {},
   "outputs": [
    {
     "data": {
      "text/html": [
       "<div>\n",
       "<style scoped>\n",
       "    .dataframe tbody tr th:only-of-type {\n",
       "        vertical-align: middle;\n",
       "    }\n",
       "\n",
       "    .dataframe tbody tr th {\n",
       "        vertical-align: top;\n",
       "    }\n",
       "\n",
       "    .dataframe thead th {\n",
       "        text-align: right;\n",
       "    }\n",
       "</style>\n",
       "<table border=\"1\" class=\"dataframe\">\n",
       "  <thead>\n",
       "    <tr style=\"text-align: right;\">\n",
       "      <th></th>\n",
       "      <th>section</th>\n",
       "      <th>subsection</th>\n",
       "      <th>title</th>\n",
       "      <th>description</th>\n",
       "      <th>start</th>\n",
       "      <th>stop</th>\n",
       "      <th>address</th>\n",
       "      <th>participants</th>\n",
       "    </tr>\n",
       "  </thead>\n",
       "  <tbody>\n",
       "    <tr>\n",
       "      <th>0</th>\n",
       "      <td>Авиамодельный спорт</td>\n",
       "      <td>Основной состав</td>\n",
       "      <td>Кубок россии</td>\n",
       "      <td>кордовые модели воздушного боя F-2D  этап</td>\n",
       "      <td>2008-01-18</td>\n",
       "      <td>2008-01-20</td>\n",
       "      <td>Россия, Тульская обл.    Алексин</td>\n",
       "      <td>40.0</td>\n",
       "    </tr>\n",
       "    <tr>\n",
       "      <th>1</th>\n",
       "      <td>Авиамодельный спорт</td>\n",
       "      <td>Основной состав</td>\n",
       "      <td>Кубок россии</td>\n",
       "      <td>кордовые модели воздушного боя F-2D  этап</td>\n",
       "      <td>2008-02-08</td>\n",
       "      <td>2008-02-10</td>\n",
       "      <td>Россия, Приморский край    Владивосток</td>\n",
       "      <td>30.0</td>\n",
       "    </tr>\n",
       "    <tr>\n",
       "      <th>2</th>\n",
       "      <td>Авиамодельный спорт</td>\n",
       "      <td>Основной состав</td>\n",
       "      <td>Кубок россии</td>\n",
       "      <td>кордовые модели воздушногобоя F2D   этап</td>\n",
       "      <td>2008-02-22</td>\n",
       "      <td>2008-02-24</td>\n",
       "      <td>Россия, Тульская обл.    Алексин</td>\n",
       "      <td>50.0</td>\n",
       "    </tr>\n",
       "    <tr>\n",
       "      <th>3</th>\n",
       "      <td>Авиамодельный спорт</td>\n",
       "      <td>Основной состав</td>\n",
       "      <td>Кубок россии</td>\n",
       "      <td>кордовые модели воздушного боя F-2D  этап</td>\n",
       "      <td>2008-02-22</td>\n",
       "      <td>2008-02-24</td>\n",
       "      <td>Россия, Свердловская обл.    Екатеринбург</td>\n",
       "      <td>100.0</td>\n",
       "    </tr>\n",
       "    <tr>\n",
       "      <th>4</th>\n",
       "      <td>Авиамодельный спорт</td>\n",
       "      <td>Основной состав</td>\n",
       "      <td>Кубок россии</td>\n",
       "      <td>кордовые модели воздушногобоя F2D   этап</td>\n",
       "      <td>2008-03-01</td>\n",
       "      <td>2008-03-02</td>\n",
       "      <td>Россия, Пермская обл.    Пермь</td>\n",
       "      <td>40.0</td>\n",
       "    </tr>\n",
       "    <tr>\n",
       "      <th>...</th>\n",
       "      <td>...</td>\n",
       "      <td>...</td>\n",
       "      <td>...</td>\n",
       "      <td>...</td>\n",
       "      <td>...</td>\n",
       "      <td>...</td>\n",
       "      <td>...</td>\n",
       "      <td>...</td>\n",
       "    </tr>\n",
       "    <tr>\n",
       "      <th>76596</th>\n",
       "      <td>Эстетическая гимнастика</td>\n",
       "      <td>Молодежный (резервный) состав</td>\n",
       "      <td>Первенство россии</td>\n",
       "      <td>-</td>\n",
       "      <td>2015-04-15</td>\n",
       "      <td>2015-04-20</td>\n",
       "      <td>Россия, Московская обл.    Раменское, -</td>\n",
       "      <td>380.0</td>\n",
       "    </tr>\n",
       "    <tr>\n",
       "      <th>76597</th>\n",
       "      <td>Эстетическая гимнастика</td>\n",
       "      <td>Молодежный (резервный) состав</td>\n",
       "      <td>Кубок мира</td>\n",
       "      <td>-  этап</td>\n",
       "      <td>2015-04-24</td>\n",
       "      <td>2015-04-27</td>\n",
       "      <td>Финляндия, -, -</td>\n",
       "      <td>50.0</td>\n",
       "    </tr>\n",
       "    <tr>\n",
       "      <th>76598</th>\n",
       "      <td>Эстетическая гимнастика</td>\n",
       "      <td>Молодежный (резервный) состав</td>\n",
       "      <td>Первенство мира</td>\n",
       "      <td>-</td>\n",
       "      <td>2015-06-04</td>\n",
       "      <td>2015-06-08</td>\n",
       "      <td>Фарерские острова, -, -</td>\n",
       "      <td>40.0</td>\n",
       "    </tr>\n",
       "    <tr>\n",
       "      <th>76599</th>\n",
       "      <td>Эстетическая гимнастика</td>\n",
       "      <td>Молодежный (резервный) состав</td>\n",
       "      <td>Тренировочное мероприятие</td>\n",
       "      <td>-</td>\n",
       "      <td>2015-08-15</td>\n",
       "      <td>2015-08-25</td>\n",
       "      <td>Россия, Нижегородская  обл.    Павлово, -</td>\n",
       "      <td>150.0</td>\n",
       "    </tr>\n",
       "    <tr>\n",
       "      <th>76600</th>\n",
       "      <td>Эстетическая гимнастика</td>\n",
       "      <td>Молодежный (резервный) состав</td>\n",
       "      <td>Всероссийские соревнования</td>\n",
       "      <td>-</td>\n",
       "      <td>2015-12-03</td>\n",
       "      <td>2015-12-07</td>\n",
       "      <td>Россия, по назначению, -</td>\n",
       "      <td>1140.0</td>\n",
       "    </tr>\n",
       "  </tbody>\n",
       "</table>\n",
       "<p>76601 rows × 8 columns</p>\n",
       "</div>"
      ],
      "text/plain": [
       "                       section                     subsection  \\\n",
       "0          Авиамодельный спорт                Основной состав   \n",
       "1          Авиамодельный спорт                Основной состав   \n",
       "2          Авиамодельный спорт                Основной состав   \n",
       "3          Авиамодельный спорт                Основной состав   \n",
       "4          Авиамодельный спорт                Основной состав   \n",
       "...                        ...                            ...   \n",
       "76596  Эстетическая гимнастика  Молодежный (резервный) состав   \n",
       "76597  Эстетическая гимнастика  Молодежный (резервный) состав   \n",
       "76598  Эстетическая гимнастика  Молодежный (резервный) состав   \n",
       "76599  Эстетическая гимнастика  Молодежный (резервный) состав   \n",
       "76600  Эстетическая гимнастика  Молодежный (резервный) состав   \n",
       "\n",
       "                            title                                description  \\\n",
       "0                    Кубок россии  кордовые модели воздушного боя F-2D  этап   \n",
       "1                    Кубок россии  кордовые модели воздушного боя F-2D  этап   \n",
       "2                    Кубок россии   кордовые модели воздушногобоя F2D   этап   \n",
       "3                    Кубок россии  кордовые модели воздушного боя F-2D  этап   \n",
       "4                    Кубок россии   кордовые модели воздушногобоя F2D   этап   \n",
       "...                           ...                                        ...   \n",
       "76596           Первенство россии                                          -   \n",
       "76597                  Кубок мира                                    -  этап   \n",
       "76598             Первенство мира                                          -   \n",
       "76599   Тренировочное мероприятие                                          -   \n",
       "76600  Всероссийские соревнования                                          -   \n",
       "\n",
       "            start        stop                                    address  \\\n",
       "0      2008-01-18  2008-01-20           Россия, Тульская обл.    Алексин   \n",
       "1      2008-02-08  2008-02-10     Россия, Приморский край    Владивосток   \n",
       "2      2008-02-22  2008-02-24           Россия, Тульская обл.    Алексин   \n",
       "3      2008-02-22  2008-02-24  Россия, Свердловская обл.    Екатеринбург   \n",
       "4      2008-03-01  2008-03-02             Россия, Пермская обл.    Пермь   \n",
       "...           ...         ...                                        ...   \n",
       "76596  2015-04-15  2015-04-20    Россия, Московская обл.    Раменское, -   \n",
       "76597  2015-04-24  2015-04-27                            Финляндия, -, -   \n",
       "76598  2015-06-04  2015-06-08                    Фарерские острова, -, -   \n",
       "76599  2015-08-15  2015-08-25  Россия, Нижегородская  обл.    Павлово, -   \n",
       "76600  2015-12-03  2015-12-07                   Россия, по назначению, -   \n",
       "\n",
       "       participants  \n",
       "0              40.0  \n",
       "1              30.0  \n",
       "2              50.0  \n",
       "3             100.0  \n",
       "4              40.0  \n",
       "...             ...  \n",
       "76596         380.0  \n",
       "76597          50.0  \n",
       "76598          40.0  \n",
       "76599         150.0  \n",
       "76600        1140.0  \n",
       "\n",
       "[76601 rows x 8 columns]"
      ]
     },
     "execution_count": 3,
     "metadata": {},
     "output_type": "execute_result"
    }
   ],
   "source": [
    "df = pd.read_csv('dataekp_0.csv')\n",
    "df"
   ]
  },
  {
   "cell_type": "code",
   "execution_count": 41,
   "metadata": {},
   "outputs": [],
   "source": [
    "section_1 = df[df.section == 'Авиамодельный спорт']\n",
    "section_2 = df[df.section == 'Эстетическая гимнастика']"
   ]
  },
  {
   "cell_type": "code",
   "execution_count": 9,
   "metadata": {},
   "outputs": [
    {
     "data": {
      "text/plain": [
       "0        2008-01-18\n",
       "1        2008-02-08\n",
       "2        2008-02-22\n",
       "3        2008-02-22\n",
       "4        2008-03-01\n",
       "            ...    \n",
       "65280    2015-08-06\n",
       "65281    2015-08-10\n",
       "65282    2015-08-20\n",
       "65283    2015-08-20\n",
       "65284    2015-09-18\n",
       "Name: start, Length: 1206, dtype: object"
      ]
     },
     "execution_count": 9,
     "metadata": {},
     "output_type": "execute_result"
    }
   ],
   "source": [
    "section_1.start"
   ]
  },
  {
   "cell_type": "code",
   "execution_count": 10,
   "metadata": {},
   "outputs": [
    {
     "data": {
      "text/plain": [
       "15645    2009-02-12\n",
       "15646    2009-02-19\n",
       "15647    2009-03-01\n",
       "15648    2009-03-21\n",
       "15649    2009-03-27\n",
       "            ...    \n",
       "76596    2015-04-15\n",
       "76597    2015-04-24\n",
       "76598    2015-06-04\n",
       "76599    2015-08-15\n",
       "76600    2015-12-03\n",
       "Name: start, Length: 172, dtype: object"
      ]
     },
     "execution_count": 10,
     "metadata": {},
     "output_type": "execute_result"
    }
   ],
   "source": [
    "section_2.start"
   ]
  },
  {
   "cell_type": "code",
   "execution_count": 48,
   "metadata": {},
   "outputs": [],
   "source": [
    "date1 = pd.to_datetime(section_1.start).dt.year\n",
    "date2 = pd.to_datetime(section_2.start).dt.year"
   ]
  },
  {
   "cell_type": "code",
   "execution_count": 49,
   "metadata": {},
   "outputs": [
    {
     "data": {
      "text/plain": [
       "0        2008\n",
       "1        2008\n",
       "2        2008\n",
       "3        2008\n",
       "4        2008\n",
       "         ... \n",
       "65280    2015\n",
       "65281    2015\n",
       "65282    2015\n",
       "65283    2015\n",
       "65284    2015\n",
       "Name: start, Length: 1206, dtype: int64"
      ]
     },
     "execution_count": 49,
     "metadata": {},
     "output_type": "execute_result"
    }
   ],
   "source": [
    "date1"
   ]
  },
  {
   "cell_type": "code",
   "execution_count": 50,
   "metadata": {},
   "outputs": [],
   "source": [
    "part1 = section_1.participants\n",
    "part2 = section_2.participants"
   ]
  },
  {
   "cell_type": "code",
   "execution_count": 51,
   "metadata": {},
   "outputs": [
    {
     "data": {
      "text/plain": [
       "0         40.0\n",
       "1         30.0\n",
       "2         50.0\n",
       "3        100.0\n",
       "4         40.0\n",
       "         ...  \n",
       "65280      2.0\n",
       "65281     13.0\n",
       "65282     50.0\n",
       "65283      9.0\n",
       "65284     16.0\n",
       "Name: participants, Length: 1206, dtype: float64"
      ]
     },
     "execution_count": 51,
     "metadata": {},
     "output_type": "execute_result"
    }
   ],
   "source": [
    "part1"
   ]
  },
  {
   "cell_type": "code",
   "execution_count": 53,
   "metadata": {},
   "outputs": [],
   "source": [
    "df1 = pd.concat([date1, part1], axis=1, join='inner')\n",
    "df2 = pd.concat([date2, part2], axis=1, join='inner')"
   ]
  },
  {
   "cell_type": "code",
   "execution_count": 57,
   "metadata": {},
   "outputs": [],
   "source": [
    "pivot1 = df1.pivot_table(index=['start'], values='participants', aggfunc='sum')\n",
    "pivot2 = df2.pivot_table(index=['start'], values='participants', aggfunc='sum')"
   ]
  },
  {
   "cell_type": "code",
   "execution_count": 58,
   "metadata": {},
   "outputs": [
    {
     "data": {
      "text/html": [
       "<div>\n",
       "<style scoped>\n",
       "    .dataframe tbody tr th:only-of-type {\n",
       "        vertical-align: middle;\n",
       "    }\n",
       "\n",
       "    .dataframe tbody tr th {\n",
       "        vertical-align: top;\n",
       "    }\n",
       "\n",
       "    .dataframe thead th {\n",
       "        text-align: right;\n",
       "    }\n",
       "</style>\n",
       "<table border=\"1\" class=\"dataframe\">\n",
       "  <thead>\n",
       "    <tr style=\"text-align: right;\">\n",
       "      <th></th>\n",
       "      <th>participants</th>\n",
       "    </tr>\n",
       "    <tr>\n",
       "      <th>start</th>\n",
       "      <th></th>\n",
       "    </tr>\n",
       "  </thead>\n",
       "  <tbody>\n",
       "    <tr>\n",
       "      <th>2009</th>\n",
       "      <td>4054.0</td>\n",
       "    </tr>\n",
       "    <tr>\n",
       "      <th>2010</th>\n",
       "      <td>3555.0</td>\n",
       "    </tr>\n",
       "    <tr>\n",
       "      <th>2011</th>\n",
       "      <td>5221.0</td>\n",
       "    </tr>\n",
       "    <tr>\n",
       "      <th>2012</th>\n",
       "      <td>5200.0</td>\n",
       "    </tr>\n",
       "    <tr>\n",
       "      <th>2013</th>\n",
       "      <td>5975.0</td>\n",
       "    </tr>\n",
       "    <tr>\n",
       "      <th>2014</th>\n",
       "      <td>7795.0</td>\n",
       "    </tr>\n",
       "    <tr>\n",
       "      <th>2015</th>\n",
       "      <td>8215.0</td>\n",
       "    </tr>\n",
       "  </tbody>\n",
       "</table>\n",
       "</div>"
      ],
      "text/plain": [
       "       participants\n",
       "start              \n",
       "2009         4054.0\n",
       "2010         3555.0\n",
       "2011         5221.0\n",
       "2012         5200.0\n",
       "2013         5975.0\n",
       "2014         7795.0\n",
       "2015         8215.0"
      ]
     },
     "execution_count": 58,
     "metadata": {},
     "output_type": "execute_result"
    }
   ],
   "source": [
    "pivot2"
   ]
  },
  {
   "cell_type": "code",
   "execution_count": 65,
   "metadata": {},
   "outputs": [
    {
     "data": {
      "text/plain": [
       "<matplotlib.legend.Legend at 0x24214adaf20>"
      ]
     },
     "execution_count": 65,
     "metadata": {},
     "output_type": "execute_result"
    },
    {
     "data": {
      "image/png": "[encoded data removed]",
      "text/plain": [
       "<Figure size 640x480 with 1 Axes>"
      ]
     },
     "metadata": {},
     "output_type": "display_data"
    }
   ],
   "source": [
    "ax = pivot1.plot()\n",
    "pivot2.plot(ax=ax)\n",
    "plt.legend(['Авиамодельный спорт', 'Эстетическая гиманстика'])"
   ]
  },
  {
   "cell_type": "markdown",
   "metadata": {},
   "source": [
    "Гимнастки почти сравнялись по популярности с авиамоделями :)\n",
    "Ссылка на набор данных: https://data.gov.ru/opendata/7703771271-ekp"
   ]
  },
  {
   "cell_type": "code",
   "execution_count": null,
   "metadata": {},
   "outputs": [],
   "source": []
  }
 ],
 "metadata": {
  "kernelspec": {
   "display_name": "Python 3.10.6 ('env': venv)",
   "language": "python",
   "name": "python3"
  },
  "language_info": {
   "codemirror_mode": {
    "name": "ipython",
    "version": 3
   },
   "file_extension": ".py",
   "mimetype": "text/x-python",
   "name": "python",
   "nbconvert_exporter": "python",
   "pygments_lexer": "ipython3",
   "version": "3.10.6"
  },
  "orig_nbformat": 4,
  "vscode": {
   "interpreter": {
    "hash": "7bbff0f77cc60409b80d36649ee0e8165db0d590237013d0f00ba0757557abd3"
   }
  }
 },
 "nbformat": 4,
 "nbformat_minor": 2
}
